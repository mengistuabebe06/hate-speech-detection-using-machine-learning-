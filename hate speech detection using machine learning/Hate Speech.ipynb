{
 "cells": [
  {
   "cell_type": "code",
   "execution_count": 1,
   "metadata": {},
   "outputs": [],
   "source": [
    "import pickle\n",
    "import pandas as pd\n",
    "from sklearn.feature_extraction.text import CountVectorizer, TfidfVectorizer\n",
    "from sklearn.metrics import accuracy_score\n",
    "import matplotlib.pyplot as plt\n",
    "%matplotlib inline"
   ]
  },
  {
   "cell_type": "code",
   "execution_count": 2,
   "metadata": {
    "scrolled": false
   },
   "outputs": [
    {
     "name": "stdout",
     "output_type": "stream",
     "text": [
      "                                                post   label\n",
      "0  Mumicha minster Ethiopian jawar Mohammed 2020 ...  normal\n",
      "1  Rabbiin dhabamaa si haa godhuu malee xalaatni ...    hate\n",
      "2  Kiyaa Ajawaa kana dhagefachu jibee wly  Walaga...    hate\n",
      "3  dubartoonni Oromoo dress qofa jijjiiradhaa paa...  normal\n",
      "4  Ani omn koo dhabe midia  amara jelaa ilala tur...  normal\n",
      "5  Ati ethiopia  bulchuu  miti jimmaa  kantibaa  ...    hate\n",
      "6  Kaabineen comment kun dhageeffachuuf seentan m...  normal\n",
      "7  Yoo  Abiyin Aradhaa wanaa Jawaar Qequu Asiratt...    hate\n",
      "8  Ijoolleen Amrifaa hin benee muctii harkaa harg...  normal\n",
      "9  Utuu amara jelaa fiiguu jarii dibanii sii nyac...  normal\n"
     ]
    }
   ],
   "source": [
    "import string\n",
    "df = pd.read_excel(\"hate1.xlsx\", header = None,encoding='latin-1',)\n",
    "df.rename(columns={0:'post', 1:'label'}, inplace=True)\n",
    "print(df.head(10))\n",
    "my_labels = ['hate', 'normal']"
   ]
  },
  {
   "cell_type": "code",
   "execution_count": 3,
   "metadata": {},
   "outputs": [
    {
     "name": "stdout",
     "output_type": "stream",
     "text": [
      "                                                post   label\n",
      "0  mumicha minster ethiopian jawar mohammed  insh...  normal\n",
      "1  rabbiin dhabamaa si haa godhuu xalaatni tokko ...    hate\n",
      "2  kiyaa ajawaa dhagefachu jibee wly  walagaatii ...    hate\n",
      "3  dubartoonni oromoo dress qofa jijjiiradhaa paa...  normal\n",
      "4  omn dhabe midia  amara jelaa ilala turee namit...  normal\n",
      "5  ethiopia  bulchuu  miti jimmaa  kantibaa  tate...    hate\n",
      "6  kaabineen comment dhageeffachuuf seentan moo w...  normal\n",
      "7   abiyin aradhaa wanaa jawaar qequu asiratti du...    hate\n",
      "8  ijoolleen amrifaa hin benee muctii harkaa harg...  normal\n",
      "9  amara jelaa fiiguu jarii dibanii sii nyacha ji...  normal\n"
     ]
    }
   ],
   "source": [
    "import nltk\n",
    "from nltk.corpus import stopwords\n",
    "STOPWORDS = stopwords.words('oromiffa')\n",
    "def clean_text():\n",
    "    #convert all data into lower letter\n",
    "    df[\"post\"] = df[\"post\"].apply(lambda x: str(x).lower())\n",
    "    #remove punctuation\n",
    "    df[\"post\"] = df[\"post\"].apply(lambda tweet: tweet.translate(str.maketrans('', '', string.punctuation)))\n",
    "    #remove number number and symbols\n",
    "    df[\"post\"] = df[\"post\"].apply(lambda tweet: tweet.translate(str.maketrans('', '', \"0123456789❤♀️♥⚽️《\")) )\n",
    "    #remove stop words\n",
    "    df[\"post\"] = df[\"post\"].str.split(' ').apply(lambda tweet: ' '.join(k for k in tweet if k not in STOPWORDS))\n",
    "clean_text()\n",
    "print(df.head(10))\n"
   ]
  },
  {
   "cell_type": "code",
   "execution_count": 4,
   "metadata": {
    "scrolled": true
   },
   "outputs": [
    {
     "data": {
      "image/png": "[encoded data removed]",
      "text/plain": [
       "<Figure size 720x288 with 1 Axes>"
      ]
     },
     "metadata": {
      "needs_background": "light"
     },
     "output_type": "display_data"
    }
   ],
   "source": [
    "plt.figure(figsize=(10,4))\n",
    "df.label.value_counts().plot(kind='bar');"
   ]
  },
  {
   "cell_type": "code",
   "execution_count": 5,
   "metadata": {},
   "outputs": [
    {
     "data": {
      "text/plain": [
       "([<matplotlib.patches.Wedge at 0x201117930c8>,\n",
       "  <matplotlib.patches.Wedge at 0x201117937c8>],\n",
       " [Text(-0.3928600785795818, 1.0274536284711078, 'normal'),\n",
       "  Text(0.3928599823824287, -1.0274536652533184, 'hate')])"
      ]
     },
     "execution_count": 5,
     "metadata": {},
     "output_type": "execute_result"
    },
    {
     "data": {
      "image/png": "[encoded data removed]",
      "text/plain": [
       "<Figure size 1440x720 with 1 Axes>"
      ]
     },
     "metadata": {},
     "output_type": "display_data"
    }
   ],
   "source": [
    "#mat plot our data set labeling\n",
    "plt.figure(figsize=(20,10))\n",
    "labe=[\"normal\",\"hate\"]\n",
    "#Show the histogram\n",
    "plt.pie(df.label.value_counts(),labels=labe)"
   ]
  },
  {
   "cell_type": "code",
   "execution_count": 6,
   "metadata": {
    "scrolled": true
   },
   "outputs": [
    {
     "name": "stdout",
     "output_type": "stream",
     "text": [
      "Total   Post count: 4000\n",
      "Normal  post count: 2465\n",
      "Hateful post count: 1535 \n",
      "\n",
      "Total post count in trainin sampple: 2800\n",
      "Total post count in test sample:     1200\n",
      "Normal  post count in X_train: 1714\n",
      "Hateful post count in X_train: 1086\n",
      "Normal  post count in X_test:  751\n",
      "Hateful post count in X_test:  449\n"
     ]
    }
   ],
   "source": [
    "from sklearn.model_selection import train_test_split\n",
    "\n",
    "# Data splitting 70% for train and 30% for test\n",
    "X = df.post\n",
    "y = df.label\n",
    "X_train, X_test, y_train, y_test = train_test_split(X, y, test_size=0.3, random_state = 20)\n",
    "\n",
    "print ('Total   Post count:', len(df))\n",
    "print ('Normal  post count:', len(df[df.label == \"normal\"]))\n",
    "print ('Hateful post count:', len(df[df.label == \"hate\"]), '\\n')\n",
    "print ('Total post count in trainin sampple:', len(X_train))\n",
    "print ('Total post count in test sample:    ', len(X_test))\n",
    "print ('Normal  post count in X_train:', X_train[y_train == \"normal\"].count())\n",
    "print ('Hateful post count in X_train:', X_train[y_train == \"hate\"].count())\n",
    "print ('Normal  post count in X_test: ', X_test[y_test == \"normal\"].count())\n",
    "print ('Hateful post count in X_test: ', X_test[y_test == \"hate\"].count())"
   ]
  },
  {
   "cell_type": "code",
   "execution_count": 7,
   "metadata": {},
   "outputs": [],
   "source": [
    "# Naive Bayes Classifier\n",
    "from sklearn.naive_bayes import MultinomialNB\n",
    "from sklearn.pipeline import Pipeline\n",
    "from sklearn.feature_extraction.text import TfidfTransformer\n",
    "\n",
    "nb = Pipeline([('vect', CountVectorizer()),\n",
    "               ('tfidf', TfidfTransformer()),\n",
    "               ('clf', MultinomialNB()),\n",
    "              ])\n",
    "nb.fit(X_train, y_train)\n",
    "filename = 'nb.sav'\n",
    "pickle.dump(nb, open(filename, 'wb'))"
   ]
  },
  {
   "cell_type": "code",
   "execution_count": 8,
   "metadata": {},
   "outputs": [
    {
     "name": "stdout",
     "output_type": "stream",
     "text": [
      "accuracy 0.76\n",
      "              precision    recall  f1-score   support\n",
      "\n",
      "        hate       0.82      0.46      0.59       449\n",
      "      normal       0.74      0.94      0.83       751\n",
      "\n",
      "    accuracy                           0.76      1200\n",
      "   macro avg       0.78      0.70      0.71      1200\n",
      "weighted avg       0.77      0.76      0.74      1200\n",
      "\n",
      "Wall time: 70 ms\n"
     ]
    }
   ],
   "source": [
    "%%time\n",
    "from sklearn.metrics import classification_report\n",
    "y_pred = nb.predict(X_test)\n",
    "nbaccuracy=accuracy_score(y_pred, y_test)\n",
    "print('accuracy %s' % accuracy_score(y_pred, y_test))\n",
    "print(classification_report(y_test, y_pred,target_names=my_labels))"
   ]
  },
  {
   "cell_type": "code",
   "execution_count": 9,
   "metadata": {},
   "outputs": [],
   "source": [
    "# Linear Support Vector Machine\n",
    "from sklearn.linear_model import SGDClassifier\n",
    "\n",
    "sgd = Pipeline([('vect', CountVectorizer()),\n",
    "                ('tfidf', TfidfTransformer()),\n",
    "                ('clf', SGDClassifier(loss='hinge', penalty='l2',alpha=1e-3, random_state=10, max_iter=5, tol=None)),\n",
    "               ])\n",
    "sgd.fit(X_train, y_train)\n",
    "filename = 'svm.sav'\n",
    "pickle.dump(sgd, open(filename, 'wb'))\n",
    " "
   ]
  },
  {
   "cell_type": "code",
   "execution_count": 10,
   "metadata": {},
   "outputs": [
    {
     "name": "stdout",
     "output_type": "stream",
     "text": [
      "accuracy 0.73\n",
      "              precision    recall  f1-score   support\n",
      "\n",
      "        hate       0.82      0.36      0.50       449\n",
      "      normal       0.71      0.95      0.82       751\n",
      "\n",
      "    accuracy                           0.73      1200\n",
      "   macro avg       0.77      0.65      0.66      1200\n",
      "weighted avg       0.75      0.73      0.70      1200\n",
      "\n",
      "Wall time: 83 ms\n"
     ]
    }
   ],
   "source": [
    "%%time\n",
    "from sklearn.metrics import classification_report\n",
    "y_pred = sgd.predict(X_test)\n",
    "svmaccuracy=accuracy_score(y_pred, y_test)\n",
    "print('accuracy %s' % accuracy_score(y_pred, y_test))\n",
    "print(classification_report(y_test, y_pred,target_names=my_labels))"
   ]
  },
  {
   "cell_type": "code",
   "execution_count": 11,
   "metadata": {},
   "outputs": [
    {
     "name": "stderr",
     "output_type": "stream",
     "text": [
      "C:\\Users\\Fekadu\\Anaconda3\\lib\\site-packages\\sklearn\\linear_model\\logistic.py:432: FutureWarning: Default solver will be changed to 'lbfgs' in 0.22. Specify a solver to silence this warning.\n",
      "  FutureWarning)\n"
     ]
    }
   ],
   "source": [
    "# Logistic Regression\n",
    "from sklearn.linear_model import LogisticRegression\n",
    "\n",
    "logreg = Pipeline([('vect', CountVectorizer()),\n",
    "                ('tfidf', TfidfTransformer()),\n",
    "                ('clf', LogisticRegression(n_jobs=1, C=1e5)),\n",
    "               ])\n",
    "logreg.fit(X_train, y_train)\n",
    "filename = 'lr.sav'\n",
    "pickle.dump(logreg, open(filename, 'wb'))"
   ]
  },
  {
   "cell_type": "code",
   "execution_count": 12,
   "metadata": {},
   "outputs": [
    {
     "name": "stdout",
     "output_type": "stream",
     "text": [
      "accuracy 0.75\n",
      "              precision    recall  f1-score   support\n",
      "\n",
      "        hate       0.67      0.67      0.67       449\n",
      "      normal       0.80      0.80      0.80       751\n",
      "\n",
      "    accuracy                           0.75      1200\n",
      "   macro avg       0.73      0.73      0.73      1200\n",
      "weighted avg       0.75      0.75      0.75      1200\n",
      "\n",
      "Wall time: 78 ms\n"
     ]
    }
   ],
   "source": [
    "%%time\n",
    "from sklearn.metrics import classification_report\n",
    "y_pred = logreg.predict(X_test)\n",
    "logregaccuracy=accuracy_score(y_pred, y_test)\n",
    "print('accuracy %s' % accuracy_score(y_pred, y_test))\n",
    "print(classification_report(y_test, y_pred,target_names=my_labels))"
   ]
  },
  {
   "cell_type": "code",
   "execution_count": 13,
   "metadata": {},
   "outputs": [
    {
     "name": "stdout",
     "output_type": "stream",
     "text": [
      "accuracy 0.6925\n",
      "              precision    recall  f1-score   support\n",
      "\n",
      "        hate       0.74      0.27      0.40       449\n",
      "      normal       0.68      0.94      0.79       751\n",
      "\n",
      "    accuracy                           0.69      1200\n",
      "   macro avg       0.71      0.61      0.60      1200\n",
      "weighted avg       0.71      0.69      0.65      1200\n",
      "\n"
     ]
    }
   ],
   "source": [
    "# KNN\n",
    "from sklearn.neighbors import KNeighborsClassifier\n",
    "\n",
    "knn = Pipeline([('vect', CountVectorizer()),\n",
    "                ('tfidf', TfidfTransformer()),\n",
    "                ('clf', KNeighborsClassifier(n_neighbors=3)),\n",
    "               ])\n",
    "knn.fit(X_train, y_train)\n",
    "filename = 'knn.sav'\n",
    "pickle.dump(knn, open(filename, 'wb'))\n",
    "y_pred = knn.predict(X_test)\n",
    "knnaccuracy=accuracy_score(y_pred, y_test)\n",
    "print('accuracy %s' % accuracy_score(y_pred, y_test))\n",
    "print(classification_report(y_test, y_pred,target_names=my_labels))"
   ]
  },
  {
   "cell_type": "code",
   "execution_count": 14,
   "metadata": {},
   "outputs": [
    {
     "name": "stdout",
     "output_type": "stream",
     "text": [
      "accuracy 0.7391666666666666\n",
      "              precision    recall  f1-score   support\n",
      "\n",
      "        hate       0.69      0.54      0.61       449\n",
      "      normal       0.76      0.86      0.80       751\n",
      "\n",
      "    accuracy                           0.74      1200\n",
      "   macro avg       0.73      0.70      0.71      1200\n",
      "weighted avg       0.73      0.74      0.73      1200\n",
      "\n"
     ]
    }
   ],
   "source": [
    "# Decision Tree\n",
    "from sklearn.tree import DecisionTreeClassifier\n",
    "\n",
    "dt = Pipeline([('vect', CountVectorizer()),\n",
    "               ('tfidf', TfidfTransformer()),\n",
    "               ('clf', DecisionTreeClassifier()),\n",
    "              ])\n",
    "dt.fit(X_train, y_train)\n",
    "filename = 'dt.sav'\n",
    "pickle.dump(dt, open(filename, 'wb'))\n",
    "from sklearn.metrics import classification_report\n",
    "y_pred = dt.predict(X_test)\n",
    "dtaccuracy=accuracy_score(y_pred, y_test)\n",
    "print('accuracy %s' % accuracy_score(y_pred, y_test))\n",
    "print(classification_report(y_test, y_pred,target_names=my_labels))"
   ]
  },
  {
   "cell_type": "code",
   "execution_count": 15,
   "metadata": {},
   "outputs": [
    {
     "name": "stderr",
     "output_type": "stream",
     "text": [
      "C:\\Users\\Fekadu\\Anaconda3\\lib\\site-packages\\sklearn\\ensemble\\forest.py:245: FutureWarning: The default value of n_estimators will change from 10 in version 0.20 to 100 in 0.22.\n",
      "  \"10 in version 0.20 to 100 in 0.22.\", FutureWarning)\n"
     ]
    },
    {
     "name": "stdout",
     "output_type": "stream",
     "text": [
      "accuracy 0.7533333333333333\n",
      "              precision    recall  f1-score   support\n",
      "\n",
      "        hate       0.72      0.56      0.63       449\n",
      "      normal       0.77      0.87      0.82       751\n",
      "\n",
      "    accuracy                           0.75      1200\n",
      "   macro avg       0.74      0.71      0.72      1200\n",
      "weighted avg       0.75      0.75      0.75      1200\n",
      "\n"
     ]
    }
   ],
   "source": [
    "# Random Forest  Classifier\n",
    "from sklearn.ensemble import RandomForestClassifier\n",
    "\n",
    "rf = Pipeline([('vect', CountVectorizer()),\n",
    "               ('tfidf', TfidfTransformer()),\n",
    "               ('clf', RandomForestClassifier()),\n",
    "              ])\n",
    "rf.fit(X_train, y_train)\n",
    "filename = 'rf.sav'\n",
    "pickle.dump(rf, open(filename, 'wb'))\n",
    "from sklearn.metrics import classification_report\n",
    "y_pred = rf.predict(X_test)\n",
    "rfaccuracy=accuracy_score(y_pred, y_test)\n",
    "print('accuracy %s' % accuracy_score(y_pred, y_test))\n",
    "print(classification_report(y_test, y_pred,target_names=my_labels))"
   ]
  },
  {
   "cell_type": "code",
   "execution_count": 16,
   "metadata": {},
   "outputs": [
    {
     "name": "stdout",
     "output_type": "stream",
     "text": [
      "accuracy 0.7233333333333334\n",
      "              precision    recall  f1-score   support\n",
      "\n",
      "        hate       0.81      0.34      0.48       449\n",
      "      normal       0.71      0.95      0.81       751\n",
      "\n",
      "    accuracy                           0.72      1200\n",
      "   macro avg       0.76      0.65      0.64      1200\n",
      "weighted avg       0.75      0.72      0.69      1200\n",
      "\n"
     ]
    }
   ],
   "source": [
    "# Gradient Boosting Classifier\n",
    "from sklearn.ensemble import GradientBoostingClassifier\n",
    "\n",
    "gb = Pipeline([('vect', CountVectorizer()),\n",
    "               ('tfidf', TfidfTransformer()),\n",
    "               ('clf', GradientBoostingClassifier()),\n",
    "              ])\n",
    "gb.fit(X_train, y_train)\n",
    "filename = 'gb.sav'\n",
    "pickle.dump(gb, open(filename, 'wb'))\n",
    "from sklearn.metrics import classification_report\n",
    "y_pred = gb.predict(X_test)\n",
    "gbaccuracy=accuracy_score(y_pred, y_test)\n",
    "print('accuracy %s' % accuracy_score(y_pred, y_test))\n",
    "print(classification_report(y_test, y_pred,target_names=my_labels))"
   ]
  },
  {
   "cell_type": "code",
   "execution_count": 17,
   "metadata": {
    "scrolled": true
   },
   "outputs": [
    {
     "data": {
      "image/png": "[encoded data removed]",
      "text/plain": [
       "<Figure size 720x288 with 1 Axes>"
      ]
     },
     "metadata": {
      "needs_background": "light"
     },
     "output_type": "display_data"
    }
   ],
   "source": [
    "# x-coordinates of left sides of bars  \n",
    "left = [1, 2, 3, 4, 5,6] \n",
    "height = [nbaccuracy*100, dtaccuracy*100, knnaccuracy*100, svmaccuracy*100, logregaccuracy*100,gbaccuracy*100] \n",
    "plt.figure(figsize=(10,4)) \n",
    "# labels for bars \n",
    "tick_label = ['Naive Bayesian', 'Decision Tree', 'K Nearest Neibor', 'SVM', 'Logistic Regression','Gradient Boosting'] \n",
    "  \n",
    "# plotting a bar chart \n",
    "plt.bar(left, height, tick_label = tick_label, \n",
    "        width = 0.8, color = ['red', 'green','yellow','purple','orange','blue']) \n",
    "  \n",
    "# naming the x-axis \n",
    "plt.xlabel('Algorithms') \n",
    "# naming the y-axis \n",
    "plt.ylabel('Accuracy') \n",
    "# plot title \n",
    "plt.title('Our Project result') \n",
    " \n",
    "# function to show the plot \n",
    "plt.show() "
   ]
  },
  {
   "cell_type": "code",
   "execution_count": null,
   "metadata": {},
   "outputs": [],
   "source": []
  }
 ],
 "metadata": {
  "kernelspec": {
   "display_name": "Python 3",
   "language": "python",
   "name": "python3"
  },
  "language_info": {
   "codemirror_mode": {
    "name": "ipython",
    "version": 3
   },
   "file_extension": ".py",
   "mimetype": "text/x-python",
   "name": "python",
   "nbconvert_exporter": "python",
   "pygments_lexer": "ipython3",
   "version": "3.7.4"
  },
  "varInspector": {
   "cols": {
    "lenName": 16,
    "lenType": 16,
    "lenVar": 40
   },
   "kernels_config": {
    "python": {
     "delete_cmd_postfix": "",
     "delete_cmd_prefix": "del ",
     "library": "var_list.py",
     "varRefreshCmd": "print(var_dic_list())"
    },
    "r": {
     "delete_cmd_postfix": ") ",
     "delete_cmd_prefix": "rm(",
     "library": "var_list.r",
     "varRefreshCmd": "cat(var_dic_list()) "
    }
   },
   "types_to_exclude": [
    "module",
    "function",
    "builtin_function_or_method",
    "instance",
    "_Feature"
   ],
   "window_display": false
  }
 },
 "nbformat": 4,
 "nbformat_minor": 2
}
